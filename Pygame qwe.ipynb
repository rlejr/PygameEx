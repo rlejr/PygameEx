{
 "cells": [
  {
   "cell_type": "code",
   "execution_count": 7,
   "id": "2bf071a3",
   "metadata": {},
   "outputs": [],
   "source": [
    "import pygame\n",
    "\n",
    "# 전체적인 구성\n",
    "\n",
    "# 1. 초기화 -> 변수 선언(변수를 사용할 준비)\n",
    "pygame.init()\n",
    "\n",
    "# 2. 게임 화면 설정 -> 크기 고정\n",
    "size = [400, 900]\n",
    "screen = pygame.display.set_mode(size)\n",
    "\n",
    "title = \"PyGameEx\"\n",
    "\n",
    "pygame.display.set_caption(title)\n",
    "\n",
    "# 3. 게임 화면 내에서의 설정 -> 변수\n",
    "clock = pygame.time.Clock()\n",
    "\n",
    "\n",
    "\n",
    "color = (0, 0, 0)\n",
    "black = (0, 0, 0)\n",
    "custom_color = (63, 171, 126)\n",
    "\n",
    "hero_width, hero_height = hero.get_size()\n",
    "heroSetx = round(size[0]/2) - round(hero_width/2)\n",
    "heroSety = size[1] -(hero_height + 50)\n",
    "hero = pygame.image.load(\"C:/Users/Administrator/PygameEx/hero.png\").convert_alpha()\n",
    "hero = pygame.transform.scale(hero, (75, 147))\n",
    "\n",
    "# 4. 메인이벤트\n",
    "system_exit = 0\n",
    "while(system_exit == 0):\n",
    "    \n",
    "    #  4-1. FPS(Frame Per Sec) 설정\n",
    "    clock.tick(60)\n",
    "    #  4-2. 입력(키보드, 마우스)의 감지\n",
    "    for event in pygame.event.get():\n",
    "        if event.type == pygame.QUIT:\n",
    "            system_exit = 1\n",
    "    \n",
    "    \n",
    "    #  4-3. 입력, 시간에 따른 변화\n",
    "    #  4-4. 전사작업(그리기)\n",
    "    screen.fill(color)\n",
    "    screen.blit(hero, (heroSetx , heroSety))\n",
    "    #  4-5. 업데이트\n",
    "    pygame.display.flip()\n",
    "    \n",
    "# 5. 게임종료\n",
    "pygame.quit()"
   ]
  }
 ],
 "metadata": {
  "kernelspec": {
   "display_name": "Python 3 (ipykernel)",
   "language": "python",
   "name": "python3"
  },
  "language_info": {
   "codemirror_mode": {
    "name": "ipython",
    "version": 3
   },
   "file_extension": ".py",
   "mimetype": "text/x-python",
   "name": "python",
   "nbconvert_exporter": "python",
   "pygments_lexer": "ipython3",
   "version": "3.9.13"
  }
 },
 "nbformat": 4,
 "nbformat_minor": 5
}
